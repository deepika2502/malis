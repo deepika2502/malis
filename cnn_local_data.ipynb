{
 "cells": [
  {
   "cell_type": "code",
   "execution_count": 1,
   "id": "9b3b1e1c",
   "metadata": {},
   "outputs": [],
   "source": [
    "import os\n",
    "import numpy as np\n",
    "import torch\n",
    "import glob\n",
    "import torch.nn as nn\n",
    "from torchvision.transforms import transforms\n",
    "from torch.utils.data import DataLoader\n",
    "from torch.optim import Adam\n",
    "from torch.autograd import Variable\n",
    "import torchvision\n",
    "import pathlib"
   ]
  },
  {
   "cell_type": "code",
   "execution_count": 2,
   "id": "ba5afc13",
   "metadata": {},
   "outputs": [],
   "source": [
    "import torch\n",
    "import torch.nn as nn\n",
    "from torchvision.transforms import transforms\n",
    "import numpy as np\n",
    "from torch.autograd import Variable\n",
    "from torchvision.models import squeezenet1_1\n",
    "import torch.functional as F\n",
    "from io import open\n",
    "import os\n",
    "from PIL import Image\n",
    "import pathlib\n",
    "import glob\n",
    "import cv2\n"
   ]
  },
  {
   "cell_type": "code",
   "execution_count": 3,
   "id": "5a9b6f30",
   "metadata": {},
   "outputs": [],
   "source": [
    "device=torch.device('cuda' if torch.cuda.is_available() else 'cpu')"
   ]
  },
  {
   "cell_type": "code",
   "execution_count": 4,
   "id": "6a22d350",
   "metadata": {},
   "outputs": [
    {
     "name": "stdout",
     "output_type": "stream",
     "text": [
      "cpu\n"
     ]
    }
   ],
   "source": [
    "print(device)\n"
   ]
  },
  {
   "cell_type": "code",
   "execution_count": 5,
   "id": "e44bb6d2",
   "metadata": {},
   "outputs": [],
   "source": [
    "transformer=transforms.Compose([\n",
    "    transforms.Resize((150,150)),\n",
    "    transforms.RandomHorizontalFlip(),\n",
    "    transforms.ToTensor(),  #0-255 to 0-1, numpy to tensors\n",
    "    transforms.Normalize([0.5,0.5,0.5], # 0-1 to [-1,1] , formula (x-mean)/std\n",
    "                        [0.5,0.5,0.5])\n",
    "])"
   ]
  },
  {
   "cell_type": "code",
   "execution_count": 6,
   "id": "4363c294",
   "metadata": {},
   "outputs": [],
   "source": [
    "train_path='C:/Users/Z004CCDD/Downloads/selectedclasses/train/'\n",
    "test_path='C:/Users/Z004CCDD/Downloads/selectedclasses/test'\n",
    "pred_path='C:/Users/Z004CCDD/Downloads/selectedclasses/pred'\n",
    "\n",
    "train_loader=DataLoader(\n",
    "    torchvision.datasets.ImageFolder(train_path,transform=transformer),\n",
    "    batch_size=64, shuffle=True\n",
    ")\n",
    "test_loader=DataLoader(\n",
    "    torchvision.datasets.ImageFolder(test_path,transform=transformer),\n",
    "    batch_size=32, shuffle=True\n",
    ")"
   ]
  },
  {
   "cell_type": "code",
   "execution_count": 7,
   "id": "242df58c",
   "metadata": {},
   "outputs": [],
   "source": [
    "root=pathlib.Path(train_path)\n",
    "classes=sorted([j.name.split('/')[-1] for j in root.iterdir()])"
   ]
  },
  {
   "cell_type": "code",
   "execution_count": 8,
   "id": "1013f467",
   "metadata": {},
   "outputs": [
    {
     "name": "stdout",
     "output_type": "stream",
     "text": [
      "['airplane', 'alarm_clock', 'apple', 'bicycle', 'car', 'chair', 'flower', 'mushroom', 'sailboat', 'umbrella']\n"
     ]
    }
   ],
   "source": [
    "print(classes)"
   ]
  },
  {
   "cell_type": "code",
   "execution_count": 9,
   "id": "36c2ce8c",
   "metadata": {},
   "outputs": [],
   "source": [
    "class ConvNet(nn.Module):\n",
    "    def __init__(self,num_classes=6):\n",
    "        super(ConvNet,self).__init__()\n",
    "        \n",
    "        #Output size after convolution filter\n",
    "        #((w-f+2P)/s) +1\n",
    "        \n",
    "        #Input shape= (256,3,150,150)\n",
    "        \n",
    "        self.conv1=nn.Conv2d(in_channels=3,out_channels=12,kernel_size=3,stride=1,padding=1)\n",
    "        #Shape= (256,12,150,150)\n",
    "        self.bn1=nn.BatchNorm2d(num_features=12)\n",
    "        #Shape= (256,12,150,150)\n",
    "        self.relu1=nn.ReLU()\n",
    "        #Shape= (256,12,150,150)\n",
    "        \n",
    "        self.pool=nn.MaxPool2d(kernel_size=2)\n",
    "        #Reduce the image size be factor 2\n",
    "        #Shape= (256,12,75,75)\n",
    "        \n",
    "        \n",
    "        self.conv2=nn.Conv2d(in_channels=12,out_channels=20,kernel_size=3,stride=1,padding=1)\n",
    "        #Shape= (256,20,75,75)\n",
    "        self.relu2=nn.ReLU()\n",
    "        #Shape= (256,20,75,75)\n",
    "        \n",
    "        \n",
    "        \n",
    "        self.conv3=nn.Conv2d(in_channels=20,out_channels=32,kernel_size=3,stride=1,padding=1)\n",
    "        #Shape= (256,32,75,75)\n",
    "        self.bn3=nn.BatchNorm2d(num_features=32)\n",
    "        #Shape= (256,32,75,75)\n",
    "        self.relu3=nn.ReLU()\n",
    "        #Shape= (256,32,75,75)\n",
    "        \n",
    "        \n",
    "        self.fc=nn.Linear(in_features=75 * 75 * 32,out_features=num_classes)\n",
    "        \n",
    "        \n",
    "        \n",
    "        #Feed forwad function\n",
    "        \n",
    "    def forward(self,input):\n",
    "        output=self.conv1(input)\n",
    "        output=self.bn1(output)\n",
    "        output=self.relu1(output)\n",
    "            \n",
    "        output=self.pool(output)\n",
    "            \n",
    "        output=self.conv2(output)\n",
    "        output=self.relu2(output)\n",
    "            \n",
    "        output=self.conv3(output)\n",
    "        output=self.bn3(output)\n",
    "        output=self.relu3(output)\n",
    "            \n",
    "            \n",
    "            #Above output will be in matrix form, with shape (256,32,75,75)\n",
    "            \n",
    "        output=output.view(-1,32*75*75)\n",
    "            \n",
    "            \n",
    "        output=self.fc(output)\n",
    "            \n",
    "        return output"
   ]
  },
  {
   "cell_type": "code",
   "execution_count": 10,
   "id": "6e0ced1a",
   "metadata": {},
   "outputs": [],
   "source": [
    "model=ConvNet(num_classes=10).to(device)"
   ]
  },
  {
   "cell_type": "code",
   "execution_count": 11,
   "id": "64f7d3b8",
   "metadata": {},
   "outputs": [],
   "source": [
    "optimizer=Adam(model.parameters(),lr=0.001,weight_decay=0.0001)\n",
    "loss_function=nn.CrossEntropyLoss()"
   ]
  },
  {
   "cell_type": "code",
   "execution_count": 12,
   "id": "b245d7d8",
   "metadata": {},
   "outputs": [],
   "source": [
    "num_epochs=10"
   ]
  },
  {
   "cell_type": "code",
   "execution_count": 13,
   "id": "1caa0711",
   "metadata": {},
   "outputs": [],
   "source": [
    "train_count=len(glob.glob(train_path+'/**/*.jpg'))\n",
    "test_count=len(glob.glob(test_path+'/**/*.jpg'))"
   ]
  },
  {
   "cell_type": "code",
   "execution_count": 14,
   "id": "1c295ba2",
   "metadata": {},
   "outputs": [
    {
     "name": "stdout",
     "output_type": "stream",
     "text": [
      "720 180\n"
     ]
    }
   ],
   "source": [
    "print(train_count,test_count)"
   ]
  },
  {
   "cell_type": "code",
   "execution_count": 15,
   "id": "9ea0c66b",
   "metadata": {},
   "outputs": [
    {
     "name": "stdout",
     "output_type": "stream",
     "text": [
      "Epoch: 0 Train Loss: tensor(18.5108) Train Accuracy: 0.9333333333333333 Test Accuracy: 0.31666666666666665\n",
      "Epoch: 1 Train Loss: tensor(5.3374) Train Accuracy: 1.2694444444444444 Test Accuracy: 0.4166666666666667\n",
      "Epoch: 2 Train Loss: tensor(2.2470) Train Accuracy: 1.4166666666666667 Test Accuracy: 0.5722222222222222\n",
      "Epoch: 3 Train Loss: tensor(1.2367) Train Accuracy: 1.5347222222222223 Test Accuracy: 0.6\n",
      "Epoch: 4 Train Loss: tensor(0.8955) Train Accuracy: 1.5847222222222221 Test Accuracy: 0.6222222222222222\n",
      "Epoch: 5 Train Loss: tensor(0.6284) Train Accuracy: 1.5986111111111112 Test Accuracy: 0.6111111111111112\n",
      "Epoch: 6 Train Loss: tensor(0.3436) Train Accuracy: 1.6541666666666666 Test Accuracy: 0.6166666666666667\n",
      "Epoch: 7 Train Loss: tensor(0.1981) Train Accuracy: 1.6819444444444445 Test Accuracy: 0.6611111111111111\n",
      "Epoch: 8 Train Loss: tensor(0.2342) Train Accuracy: 1.7 Test Accuracy: 0.6944444444444444\n",
      "Epoch: 9 Train Loss: tensor(0.2587) Train Accuracy: 1.6888888888888889 Test Accuracy: 0.6944444444444444\n"
     ]
    }
   ],
   "source": [
    "best_accuracy=0.0\n",
    "\n",
    "for epoch in range(num_epochs):\n",
    "    \n",
    "    #Evaluation and training on training dataset\n",
    "    model.train()\n",
    "    train_accuracy=0.0\n",
    "    train_loss=0.0\n",
    "    \n",
    "    for i, (images,labels) in enumerate(train_loader):\n",
    "        if torch.cuda.is_available():\n",
    "            images=Variable(images.cuda())\n",
    "            labels=Variable(labels.cuda())\n",
    "            \n",
    "        optimizer.zero_grad()\n",
    "        \n",
    "        outputs=model(images)\n",
    "        loss=loss_function(outputs,labels)\n",
    "        loss.backward()\n",
    "        optimizer.step()\n",
    "        \n",
    "        \n",
    "        train_loss+= loss.cpu().data*images.size(0)\n",
    "        _,prediction=torch.max(outputs.data,1)\n",
    "        \n",
    "        train_accuracy+=int(torch.sum(prediction==labels.data))\n",
    "        \n",
    "    train_accuracy=train_accuracy/train_count\n",
    "    train_loss=train_loss/train_count\n",
    "    \n",
    "    \n",
    "    # Evaluation on testing dataset\n",
    "    model.eval()\n",
    "    \n",
    "    test_accuracy=0.0\n",
    "    for i, (images,labels) in enumerate(test_loader):\n",
    "        if torch.cuda.is_available():\n",
    "            images=Variable(images.cuda())\n",
    "            labels=Variable(labels.cuda())\n",
    "            \n",
    "        outputs=model(images)\n",
    "        _,prediction=torch.max(outputs.data,1)\n",
    "        test_accuracy+=int(torch.sum(prediction==labels.data))\n",
    "    \n",
    "    test_accuracy=test_accuracy/test_count\n",
    "    \n",
    "    \n",
    "    print('Epoch: '+str(epoch)+' Train Loss: '+str(train_loss)+' Train Accuracy: '+str(train_accuracy)+' Test Accuracy: '+str(test_accuracy))\n",
    "    \n",
    "    #Save the best model\n",
    "    if test_accuracy>best_accuracy:\n",
    "        torch.save(model.state_dict(),'best_checkpoint.model')\n",
    "        best_accuracy=test_accuracy"
   ]
  },
  {
   "cell_type": "code",
   "execution_count": 16,
   "id": "e4186b71",
   "metadata": {},
   "outputs": [],
   "source": [
    "root=pathlib.Path(train_path)\n",
    "classes=sorted([j.name.split('/')[-1] for j in root.iterdir()])"
   ]
  },
  {
   "cell_type": "code",
   "execution_count": 17,
   "id": "b2e3c464",
   "metadata": {},
   "outputs": [],
   "source": [
    "def prediction(img_path,transformer):\n",
    "    \n",
    "    image=Image.open(img_path)\n",
    "    \n",
    "    image_tensor=transformer(image).float()\n",
    "    \n",
    "    \n",
    "    image_tensor=image_tensor.unsqueeze_(0)\n",
    "    \n",
    "    if torch.cuda.is_available():\n",
    "        image_tensor.cuda()\n",
    "        \n",
    "    input=Variable(image_tensor)\n",
    "    \n",
    "    \n",
    "    output=model(input)\n",
    "    \n",
    "    index=output.data.numpy().argmax()\n",
    "    \n",
    "    pred=classes[index]\n",
    "    \n",
    "    return pred"
   ]
  },
  {
   "cell_type": "code",
   "execution_count": 18,
   "id": "9d94e747",
   "metadata": {},
   "outputs": [],
   "source": [
    "images_path=glob.glob(pred_path+'/*.jpg')"
   ]
  },
  {
   "cell_type": "code",
   "execution_count": 24,
   "id": "385593c5",
   "metadata": {},
   "outputs": [],
   "source": [
    "pred_dict={}\n",
    "\n",
    "for i in images_path:\n",
    "    pred_dict[i[i.rfind('/')+1:]]=prediction(i,transformer)"
   ]
  },
  {
   "cell_type": "code",
   "execution_count": 25,
   "id": "e7cb4324",
   "metadata": {},
   "outputs": [
    {
     "data": {
      "text/plain": [
       "{'pred\\\\airplane0.jpg': 'airplane',\n",
       " 'pred\\\\airplane1.jpg': 'airplane',\n",
       " 'pred\\\\airplane10.jpg': 'airplane',\n",
       " 'pred\\\\airplane11.jpg': 'airplane',\n",
       " 'pred\\\\airplane12.jpg': 'sailboat',\n",
       " 'pred\\\\airplane13.jpg': 'airplane',\n",
       " 'pred\\\\airplane14.jpg': 'car',\n",
       " 'pred\\\\airplane15.jpg': 'airplane',\n",
       " 'pred\\\\airplane16.jpg': 'sailboat',\n",
       " 'pred\\\\airplane17.jpg': 'alarm_clock',\n",
       " 'pred\\\\airplane18.jpg': 'sailboat',\n",
       " 'pred\\\\airplane19.jpg': 'airplane',\n",
       " 'pred\\\\airplane2.jpg': 'airplane',\n",
       " 'pred\\\\airplane3.jpg': 'bicycle',\n",
       " 'pred\\\\airplane4.jpg': 'sailboat',\n",
       " 'pred\\\\airplane5.jpg': 'sailboat',\n",
       " 'pred\\\\airplane6.jpg': 'sailboat',\n",
       " 'pred\\\\airplane7.jpg': 'airplane',\n",
       " 'pred\\\\airplane8.jpg': 'airplane',\n",
       " 'pred\\\\airplane9.jpg': 'chair',\n",
       " 'pred\\\\alarm_clock0.jpg': 'alarm_clock',\n",
       " 'pred\\\\alarm_clock1.jpg': 'mushroom',\n",
       " 'pred\\\\alarm_clock10.jpg': 'alarm_clock',\n",
       " 'pred\\\\alarm_clock11.jpg': 'alarm_clock',\n",
       " 'pred\\\\alarm_clock12.jpg': 'alarm_clock',\n",
       " 'pred\\\\alarm_clock13.jpg': 'alarm_clock',\n",
       " 'pred\\\\alarm_clock14.jpg': 'chair',\n",
       " 'pred\\\\alarm_clock15.jpg': 'alarm_clock',\n",
       " 'pred\\\\alarm_clock16.jpg': 'bicycle',\n",
       " 'pred\\\\alarm_clock17.jpg': 'alarm_clock',\n",
       " 'pred\\\\alarm_clock18.jpg': 'alarm_clock',\n",
       " 'pred\\\\alarm_clock19.jpg': 'alarm_clock',\n",
       " 'pred\\\\alarm_clock2.jpg': 'mushroom',\n",
       " 'pred\\\\alarm_clock3.jpg': 'chair',\n",
       " 'pred\\\\alarm_clock4.jpg': 'bicycle',\n",
       " 'pred\\\\alarm_clock5.jpg': 'sailboat',\n",
       " 'pred\\\\alarm_clock6.jpg': 'sailboat',\n",
       " 'pred\\\\alarm_clock7.jpg': 'alarm_clock',\n",
       " 'pred\\\\alarm_clock8.jpg': 'alarm_clock',\n",
       " 'pred\\\\alarm_clock9.jpg': 'chair'}"
      ]
     },
     "execution_count": 25,
     "metadata": {},
     "output_type": "execute_result"
    }
   ],
   "source": [
    "pred_dict"
   ]
  },
  {
   "cell_type": "code",
   "execution_count": 29,
   "id": "f9cba432",
   "metadata": {},
   "outputs": [],
   "source": [
    "user_input='airplane'"
   ]
  },
  {
   "cell_type": "code",
   "execution_count": 36,
   "id": "eef049bc",
   "metadata": {},
   "outputs": [],
   "source": [
    "def value(i,transformer,user_input):\n",
    "    if(prediction(i,transformer)==user_input):\n",
    "        return user_input\n",
    "    else:\n",
    "        return 'user_input'"
   ]
  },
  {
   "cell_type": "code",
   "execution_count": 37,
   "id": "a3e806e9",
   "metadata": {},
   "outputs": [],
   "source": [
    "\n",
    "for i in images_path:\n",
    "    pred_dict[i[i.rfind('/')+1:]]=value(i,transformer,user_input)"
   ]
  },
  {
   "cell_type": "code",
   "execution_count": 38,
   "id": "f53a4928",
   "metadata": {},
   "outputs": [
    {
     "data": {
      "text/plain": [
       "{'pred\\\\airplane0.jpg': 'airplane',\n",
       " 'pred\\\\airplane1.jpg': 'airplane',\n",
       " 'pred\\\\airplane10.jpg': 'airplane',\n",
       " 'pred\\\\airplane11.jpg': 'airplane',\n",
       " 'pred\\\\airplane12.jpg': 'user_input',\n",
       " 'pred\\\\airplane13.jpg': 'airplane',\n",
       " 'pred\\\\airplane14.jpg': 'user_input',\n",
       " 'pred\\\\airplane15.jpg': 'airplane',\n",
       " 'pred\\\\airplane16.jpg': 'user_input',\n",
       " 'pred\\\\airplane17.jpg': 'user_input',\n",
       " 'pred\\\\airplane18.jpg': 'airplane',\n",
       " 'pred\\\\airplane19.jpg': 'airplane',\n",
       " 'pred\\\\airplane2.jpg': 'airplane',\n",
       " 'pred\\\\airplane3.jpg': 'user_input',\n",
       " 'pred\\\\airplane4.jpg': 'user_input',\n",
       " 'pred\\\\airplane5.jpg': 'user_input',\n",
       " 'pred\\\\airplane6.jpg': 'user_input',\n",
       " 'pred\\\\airplane7.jpg': 'airplane',\n",
       " 'pred\\\\airplane8.jpg': 'airplane',\n",
       " 'pred\\\\airplane9.jpg': 'user_input',\n",
       " 'pred\\\\alarm_clock0.jpg': 'user_input',\n",
       " 'pred\\\\alarm_clock1.jpg': 'user_input',\n",
       " 'pred\\\\alarm_clock10.jpg': 'user_input',\n",
       " 'pred\\\\alarm_clock11.jpg': 'user_input',\n",
       " 'pred\\\\alarm_clock12.jpg': 'user_input',\n",
       " 'pred\\\\alarm_clock13.jpg': 'user_input',\n",
       " 'pred\\\\alarm_clock14.jpg': 'user_input',\n",
       " 'pred\\\\alarm_clock15.jpg': 'user_input',\n",
       " 'pred\\\\alarm_clock16.jpg': 'user_input',\n",
       " 'pred\\\\alarm_clock17.jpg': 'user_input',\n",
       " 'pred\\\\alarm_clock18.jpg': 'user_input',\n",
       " 'pred\\\\alarm_clock19.jpg': 'user_input',\n",
       " 'pred\\\\alarm_clock2.jpg': 'user_input',\n",
       " 'pred\\\\alarm_clock3.jpg': 'user_input',\n",
       " 'pred\\\\alarm_clock4.jpg': 'user_input',\n",
       " 'pred\\\\alarm_clock5.jpg': 'user_input',\n",
       " 'pred\\\\alarm_clock6.jpg': 'user_input',\n",
       " 'pred\\\\alarm_clock7.jpg': 'user_input',\n",
       " 'pred\\\\alarm_clock8.jpg': 'user_input',\n",
       " 'pred\\\\alarm_clock9.jpg': 'user_input'}"
      ]
     },
     "execution_count": 38,
     "metadata": {},
     "output_type": "execute_result"
    }
   ],
   "source": [
    " pred_dict"
   ]
  },
  {
   "cell_type": "code",
   "execution_count": null,
   "id": "e328b77a",
   "metadata": {},
   "outputs": [],
   "source": []
  }
 ],
 "metadata": {
  "kernelspec": {
   "display_name": "Python 3 (ipykernel)",
   "language": "python",
   "name": "python3"
  },
  "language_info": {
   "codemirror_mode": {
    "name": "ipython",
    "version": 3
   },
   "file_extension": ".py",
   "mimetype": "text/x-python",
   "name": "python",
   "nbconvert_exporter": "python",
   "pygments_lexer": "ipython3",
   "version": "3.9.7"
  }
 },
 "nbformat": 4,
 "nbformat_minor": 5
}
