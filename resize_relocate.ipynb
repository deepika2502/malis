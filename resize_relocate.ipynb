{
 "cells": [
  {
   "cell_type": "code",
   "execution_count": 1,
   "id": "71bc2dde",
   "metadata": {},
   "outputs": [],
   "source": [
    "import splitfolders  # or import split_folders\n",
    "\n",
    "# Split with a ratio.\n",
    "# To only split into training and validation set, set a tuple to `ratio`, i.e, `(.8, .2)`.\n",
    "splitfolders.ratio(\"dataset\", output=\"output\", seed=1337, ratio=(.8, .1, .1), group_prefix=None) # default values\n"
   ]
  },
  {
   "cell_type": "code",
   "execution_count": null,
   "id": "fcd88fc1",
   "metadata": {},
   "outputs": [],
   "source": [
    "# Importing Image class from PIL module\n",
    "import os\n",
    "from PIL import Image\n",
    "import cv2 \n",
    "path ='/home/deepika/Documents/eurecom/malis/project/dataset_final'\n",
    "path1 ='/home/deepika/Documents/eurecom/malis/project/cptcha'\n",
    "\n",
    "for i in os.listdir(path):\n",
    "    os.mkdir(os.path.join(path1,i))\n",
    "\n",
    "for i in os.listdir(path):\n",
    "        for j in os.listdir(os.path.join(path,i)):\n",
    "            im = cv2.imread(os.path.join(path,i,j))\n",
    "            newsize = (100,100)\n",
    "            resized = cv2.resize(im, newsize, interpolation = cv2.INTER_AREA)\n",
    "            cv2.imwrite('/home/deepika/Documents/eurecom/malis/project/cptcha/'+i+'/'+j, resized)\n"
   ]
  }
 ],
 "metadata": {
  "kernelspec": {
   "display_name": "Python 3 (ipykernel)",
   "language": "python",
   "name": "python3"
  },
  "language_info": {
   "codemirror_mode": {
    "name": "ipython",
    "version": 3
   },
   "file_extension": ".py",
   "mimetype": "text/x-python",
   "name": "python",
   "nbconvert_exporter": "python",
   "pygments_lexer": "ipython3",
   "version": "3.8.10"
  }
 },
 "nbformat": 4,
 "nbformat_minor": 5
}
