{
  "metadata": {
    "kernelspec": {
      "language": "python",
      "display_name": "Python 3",
      "name": "python3"
    },
    "language_info": {
      "name": "python",
      "version": "3.7.12",
      "mimetype": "text/x-python",
      "codemirror_mode": {
        "name": "ipython",
        "version": 3
      },
      "pygments_lexer": "ipython3",
      "nbconvert_exporter": "python",
      "file_extension": ".py"
    },
    "colab": {
      "name": "captcha-test.ipynb",
      "provenance": [],
      "collapsed_sections": [],
      "machine_shape": "hm"
    },
    "accelerator": "GPU"
  },
  "nbformat_minor": 0,
  "nbformat": 4,
  "cells": [
    {
      "cell_type": "markdown",
      "source": [
        "### **MALIS Project: Image Captcha simulation and labeling using Machine Learning**\n",
        "\n",
        "\n",
        "---\n",
        "\n",
        "\n",
        "\n",
        "\n",
        "Deepika SIVASANKARAN, Abhishek BURSE, Divya Teresa JOHNSON"
      ],
      "metadata": {
        "id": "3DR-eO17geWu"
      }
    },
    {
      "cell_type": "code",
      "source": [
        "!nvidia-smi"
      ],
      "metadata": {
        "execution": {
          "iopub.status.busy": "2021-12-15T20:52:31.744526Z",
          "iopub.execute_input": "2021-12-15T20:52:31.745334Z",
          "iopub.status.idle": "2021-12-15T20:52:32.485322Z",
          "shell.execute_reply.started": "2021-12-15T20:52:31.745298Z",
          "shell.execute_reply": "2021-12-15T20:52:32.484356Z"
        },
        "trusted": true,
        "colab": {
          "base_uri": "https://localhost:8080/"
        },
        "id": "u6x1ZC7T3f4t",
        "outputId": "7d8e9d69-27ea-4d7c-f922-4ba3855a8d81"
      },
      "execution_count": 3,
      "outputs": [
        {
          "output_type": "stream",
          "name": "stdout",
          "text": [
            "Thu Jan 20 17:48:29 2022       \n",
            "+-----------------------------------------------------------------------------+\n",
            "| NVIDIA-SMI 495.46       Driver Version: 460.32.03    CUDA Version: 11.2     |\n",
            "|-------------------------------+----------------------+----------------------+\n",
            "| GPU  Name        Persistence-M| Bus-Id        Disp.A | Volatile Uncorr. ECC |\n",
            "| Fan  Temp  Perf  Pwr:Usage/Cap|         Memory-Usage | GPU-Util  Compute M. |\n",
            "|                               |                      |               MIG M. |\n",
            "|===============================+======================+======================|\n",
            "|   0  Tesla P100-PCIE...  Off  | 00000000:00:04.0 Off |                    0 |\n",
            "| N/A   47C    P0    30W / 250W |      0MiB / 16280MiB |      0%      Default |\n",
            "|                               |                      |                  N/A |\n",
            "+-------------------------------+----------------------+----------------------+\n",
            "                                                                               \n",
            "+-----------------------------------------------------------------------------+\n",
            "| Processes:                                                                  |\n",
            "|  GPU   GI   CI        PID   Type   Process name                  GPU Memory |\n",
            "|        ID   ID                                                   Usage      |\n",
            "|=============================================================================|\n",
            "|  No running processes found                                                 |\n",
            "+-----------------------------------------------------------------------------+\n"
          ]
        }
      ]
    },
    {
      "cell_type": "markdown",
      "source": [
        "### Importing the libraries"
      ],
      "metadata": {
        "id": "EMefrVPCg-60"
      }
    },
    {
      "cell_type": "code",
      "source": [
        "import tensorflow as tf\n",
        "import cv2\n",
        "import glob\n",
        "from keras.preprocessing.image import ImageDataGenerator\n",
        "from tensorflow.keras.applications import VGG16, ResNet50, InceptionResNetV2, MobileNet, ResNet101, InceptionV3, VGG19, ResNet152, NASNetLarge, ResNet152V2\n",
        "from tensorflow.keras.models import Sequential\n",
        "from tensorflow.keras import layers\n",
        "from tensorflow.keras.optimizers import Adam\n",
        "import numpy as np\n",
        "import os\n",
        "from sklearn.model_selection import train_test_split\n",
        "from sklearn.model_selection import KFold, cross_val_predict, cross_val_score\n",
        "from collections import Counter\n",
        "import matplotlib.pyplot as plt\n",
        "\n"
      ],
      "metadata": {
        "id": "sCV30xyVhFbE",
        "execution": {
          "iopub.status.busy": "2021-12-15T21:04:41.635554Z",
          "iopub.execute_input": "2021-12-15T21:04:41.636323Z",
          "iopub.status.idle": "2021-12-15T21:04:41.643832Z",
          "shell.execute_reply.started": "2021-12-15T21:04:41.636276Z",
          "shell.execute_reply": "2021-12-15T21:04:41.641080Z"
        },
        "trusted": true
      },
      "execution_count": 4,
      "outputs": []
    },
    {
      "cell_type": "code",
      "source": [
        "!python --version"
      ],
      "metadata": {
        "id": "FIleuCAjoFD8",
        "execution": {
          "iopub.status.busy": "2021-12-15T21:04:42.118461Z",
          "iopub.execute_input": "2021-12-15T21:04:42.119152Z",
          "iopub.status.idle": "2021-12-15T21:04:42.908486Z",
          "shell.execute_reply.started": "2021-12-15T21:04:42.119112Z",
          "shell.execute_reply": "2021-12-15T21:04:42.907495Z"
        },
        "trusted": true
      },
      "execution_count": null,
      "outputs": []
    },
    {
      "cell_type": "code",
      "source": [
        "# Import PyDrive and associated libraries.\n",
        "# This only needs to be done once in a notebook.\n",
        "from pydrive.auth import GoogleAuth\n",
        "from pydrive.drive import GoogleDrive\n",
        "from google.colab import auth\n",
        "from oauth2client.client import GoogleCredentials\n",
        "\n",
        "# Authenticate and create the PyDrive client.\n",
        "# This only needs to be done once in a notebook.\n",
        "auth.authenticate_user()\n",
        "gauth = GoogleAuth()\n",
        "gauth.credentials = GoogleCredentials.get_application_default()\n",
        "drive = GoogleDrive(gauth)\n",
        "\n"
      ],
      "metadata": {
        "id": "HCe8of2G3wHA"
      },
      "execution_count": null,
      "outputs": []
    },
    {
      "cell_type": "code",
      "source": [
        "from google.colab import drive\n",
        "drive.mount('/content/drive', force_remount=True)"
      ],
      "metadata": {
        "id": "hWvg7Dau4TA-"
      },
      "execution_count": null,
      "outputs": []
    },
    {
      "cell_type": "code",
      "source": [
        "!unzip '/content/drive/MyDrive/cptcha.zip' -d '/content/drive/MyDrive'"
      ],
      "metadata": {
        "id": "QOHLitL26MiF"
      },
      "execution_count": null,
      "outputs": []
    },
    {
      "cell_type": "markdown",
      "source": [
        "### Initialising arrays to contain the data"
      ],
      "metadata": {
        "id": "BTWnhKEF8uFU"
      }
    },
    {
      "cell_type": "code",
      "source": [
        "class_label=sorted(os.listdir('/content/drive/MyDrive/cptcha'))\n",
        "from sklearn import preprocessing\n",
        "le = preprocessing.LabelEncoder()\n",
        "X=[]\n",
        "Y=[]"
      ],
      "metadata": {
        "execution": {
          "iopub.status.busy": "2021-12-15T21:04:42.912507Z",
          "iopub.execute_input": "2021-12-15T21:04:42.912791Z",
          "iopub.status.idle": "2021-12-15T21:04:42.930186Z",
          "shell.execute_reply.started": "2021-12-15T21:04:42.912760Z",
          "shell.execute_reply": "2021-12-15T21:04:42.929402Z"
        },
        "trusted": true,
        "id": "9SHrOmFE3f4y"
      },
      "execution_count": 9,
      "outputs": []
    },
    {
      "cell_type": "code",
      "source": [
        "print(class_label)"
      ],
      "metadata": {
        "colab": {
          "base_uri": "https://localhost:8080/"
        },
        "id": "yUvMA7zdUwCR",
        "outputId": "b55bb895-4f08-4adb-fc2a-02780b8850df"
      },
      "execution_count": 10,
      "outputs": [
        {
          "output_type": "stream",
          "name": "stdout",
          "text": [
            "['airplane', 'alarm_clock', 'bicycle', 'car', 'chair', 'fire_hydrant', 'flower', 'mushroom', 'sailboat', 'umbrella']\n"
          ]
        }
      ]
    },
    {
      "cell_type": "markdown",
      "source": [
        "### Append images to arrays"
      ],
      "metadata": {
        "id": "yaL69lH-86Fj"
      }
    },
    {
      "cell_type": "code",
      "source": [
        "def prepareNameWithLabels():\n",
        "    for i in class_label:\n",
        "        sourceFiles=os.listdir('/content/drive/MyDrive/cptcha/'+i)\n",
        "        for val in sourceFiles:\n",
        "            img = cv2.imread('/content/drive/MyDrive/cptcha/'+i+'/'+val, cv2.IMREAD_COLOR)\n",
        "            \n",
        "            X.append(img)\n",
        "            for j in range(len(class_label)):\n",
        "              if(i==class_label[j]):\n",
        "                  Y.append(j)\n",
        "                    \n",
        "prepareNameWithLabels()\n",
        "\n",
        "X = np.asarray(X)\n",
        "Y = np.asarray(Y)\n",
        "print(Y)\n",
        "print(X.shape, Y.shape)\n",
        "\n"
      ],
      "metadata": {
        "execution": {
          "iopub.status.busy": "2021-12-15T21:04:43.015986Z",
          "iopub.execute_input": "2021-12-15T21:04:43.016912Z",
          "iopub.status.idle": "2021-12-15T21:05:13.474299Z",
          "shell.execute_reply.started": "2021-12-15T21:04:43.016861Z",
          "shell.execute_reply": "2021-12-15T21:05:13.473496Z"
        },
        "trusted": true,
        "colab": {
          "base_uri": "https://localhost:8080/"
        },
        "id": "t5xkE8ce3f40",
        "outputId": "e67de7a3-4ae8-459e-b770-db8f999e16a1"
      },
      "execution_count": 11,
      "outputs": [
        {
          "output_type": "stream",
          "name": "stdout",
          "text": [
            "[0 0 0 ... 9 9 9]\n",
            "(20351, 100, 100, 3) (20351,)\n"
          ]
        }
      ]
    },
    {
      "cell_type": "markdown",
      "source": [
        "### Split to testing,training and validation images"
      ],
      "metadata": {
        "id": "-PyHuM4F8-YU"
      }
    },
    {
      "cell_type": "code",
      "source": [
        "X_train, X_test, Y_train, Y_test = train_test_split(X, Y, test_size = 0.2, stratify=Y)\n",
        "X_train, X_val, Y_train, Y_val = train_test_split(X_train, Y_train, test_size=0.1, stratify=Y_train)\n",
        "print(sorted(Counter(Y_train)))\n",
        "print(Counter(Y_test))\n",
        "print(Counter(Y_val))\n",
        "le.fit(class_label)\n"
      ],
      "metadata": {
        "execution": {
          "iopub.status.busy": "2021-12-15T21:05:13.475775Z",
          "iopub.execute_input": "2021-12-15T21:05:13.476470Z",
          "iopub.status.idle": "2021-12-15T21:05:16.371021Z",
          "shell.execute_reply.started": "2021-12-15T21:05:13.476432Z",
          "shell.execute_reply": "2021-12-15T21:05:16.370267Z"
        },
        "trusted": true,
        "id": "gvGdjSou3f41",
        "colab": {
          "base_uri": "https://localhost:8080/"
        },
        "outputId": "3f05269e-4dd4-4b5c-8d2d-156f7bcad9c7"
      },
      "execution_count": 12,
      "outputs": [
        {
          "output_type": "stream",
          "name": "stdout",
          "text": [
            "[0, 1, 2, 3, 4, 5, 6, 7, 8, 9]\n",
            "Counter({6: 519, 0: 444, 3: 418, 2: 405, 5: 400, 9: 394, 1: 388, 7: 377, 4: 373, 8: 353})\n",
            "Counter({6: 208, 0: 178, 3: 167, 2: 162, 5: 160, 9: 158, 1: 155, 7: 150, 4: 149, 8: 141})\n"
          ]
        },
        {
          "output_type": "execute_result",
          "data": {
            "text/plain": [
              "LabelEncoder()"
            ]
          },
          "metadata": {},
          "execution_count": 12
        }
      ]
    },
    {
      "cell_type": "markdown",
      "source": [
        "### Extract features using the models"
      ],
      "metadata": {
        "id": "yJQ2pk5H9E1L"
      }
    },
    {
      "cell_type": "code",
      "source": [
        "\n",
        "model = ResNet50(weights='imagenet',include_top=False,input_shape=(100,100,3))\n",
        "\n",
        "feature_extractor = model.predict(X_train)\n",
        "shape =feature_extractor.shape\n",
        "feature = feature_extractor.reshape(feature_extractor.shape[0],-1)\n",
        "\n",
        "test_features_extractor =model.predict(X_val)\n",
        "test_feature = test_features_extractor.reshape(test_features_extractor.shape[0],-1)"
      ],
      "metadata": {
        "execution": {
          "iopub.status.busy": "2021-12-15T21:05:16.372358Z",
          "iopub.execute_input": "2021-12-15T21:05:16.372819Z"
        },
        "trusted": true,
        "id": "lB6mVHRn3f43"
      },
      "execution_count": 13,
      "outputs": []
    },
    {
      "cell_type": "markdown",
      "source": [
        "### Random Forest Classifier"
      ],
      "metadata": {
        "id": "H1lflZ-b9IJB"
      }
    },
    {
      "cell_type": "code",
      "source": [
        "\n",
        "from sklearn.ensemble import RandomForestClassifier\n",
        "from sklearn.model_selection import GridSearchCV\n",
        "\n",
        "#RandomForest Classifier\n",
        "parameters = {'n_estimators':[1, 10, 50, 70, 100, 200, 1000]}\n",
        "clf = RandomForestClassifier()\n",
        "clf = GridSearchCV(clf, estimators)\n",
        "clf.fit(feature,Y_train)\n",
        "\n",
        "predicted_output = clf.predict(test_feature)\n",
        "from sklearn.metrics import classification_report\n",
        "report = classification_report(Y_val, predicted_output)\n",
        "print(report)\n"
      ],
      "metadata": {
        "colab": {
          "base_uri": "https://localhost:8080/"
        },
        "id": "7KrUBnLnJBWD",
        "outputId": "857efe69-61a5-40ff-e7b1-683cd991c8a0"
      },
      "execution_count": 14,
      "outputs": [
        {
          "output_type": "stream",
          "name": "stdout",
          "text": [
            "              precision    recall  f1-score   support\n",
            "\n",
            "           0       0.86      0.84      0.85       178\n",
            "           1       0.78      0.87      0.82       155\n",
            "           2       0.70      0.54      0.61       162\n",
            "           3       0.79      0.78      0.78       167\n",
            "           4       0.63      0.64      0.63       149\n",
            "           5       0.56      0.51      0.53       160\n",
            "           6       0.79      0.85      0.82       208\n",
            "           7       0.74      0.79      0.76       150\n",
            "           8       0.64      0.72      0.67       141\n",
            "           9       0.50      0.47      0.48       158\n",
            "\n",
            "    accuracy                           0.71      1628\n",
            "   macro avg       0.70      0.70      0.70      1628\n",
            "weighted avg       0.70      0.71      0.70      1628\n",
            "\n"
          ]
        }
      ]
    },
    {
      "cell_type": "markdown",
      "source": [
        "### K Nearest Neighbours"
      ],
      "metadata": {
        "id": "1qEPQa2n9NIf"
      }
    },
    {
      "cell_type": "code",
      "source": [
        "from sklearn.neighbors import KNeighborsClassifier\n",
        "#K nearest Neighbours\n",
        "knn = KNeighborsClassifier(n_neighbors = 6).fit(feature, Y_train)\n",
        "predicted_output = knn.predict(test_feature)\n",
        "\n",
        "from sklearn.metrics import classification_report\n",
        "report = classification_report(Y_val, predicted_output)\n",
        "print(report)"
      ],
      "metadata": {
        "id": "zyhJbxz6KYwR"
      },
      "execution_count": null,
      "outputs": []
    },
    {
      "cell_type": "markdown",
      "source": [
        "### Support Vector Machine"
      ],
      "metadata": {
        "id": "2tuZC3tv9ZOi"
      }
    },
    {
      "cell_type": "code",
      "source": [
        "from sklearn import svm\n",
        "svmmodel = svm.SVC(kernel='linear',verbose=True)\n",
        "svmmodel.fit(feature,Y_train)\n",
        "#Support Vector Machine\n",
        "predicted_output = svmmodel.predict(test_feature)\n",
        "\n",
        "from sklearn.metrics import classification_report\n",
        "report = classification_report(Y_val, predicted_output)\n",
        "print('\\n',report)\n",
        "\n"
      ],
      "metadata": {
        "id": "kSJFY49wISSt",
        "colab": {
          "base_uri": "https://localhost:8080/"
        },
        "outputId": "410e7993-f317-4980-df74-1c680cebdb1d"
      },
      "execution_count": 15,
      "outputs": [
        {
          "output_type": "stream",
          "name": "stdout",
          "text": [
            "[LibSVM]\n",
            "               precision    recall  f1-score   support\n",
            "\n",
            "           0       0.90      0.92      0.91       178\n",
            "           1       0.77      0.87      0.82       155\n",
            "           2       0.61      0.60      0.61       162\n",
            "           3       0.79      0.78      0.79       167\n",
            "           4       0.66      0.67      0.66       149\n",
            "           5       0.65      0.69      0.67       160\n",
            "           6       0.86      0.88      0.87       208\n",
            "           7       0.86      0.79      0.83       150\n",
            "           8       0.77      0.74      0.76       141\n",
            "           9       0.64      0.55      0.59       158\n",
            "\n",
            "    accuracy                           0.76      1628\n",
            "   macro avg       0.75      0.75      0.75      1628\n",
            "weighted avg       0.76      0.76      0.75      1628\n",
            "\n"
          ]
        }
      ]
    },
    {
      "cell_type": "markdown",
      "source": [
        "### Ensemble (RF + SVM) model"
      ],
      "metadata": {
        "id": "TpEaN7hz9eQe"
      }
    },
    {
      "cell_type": "code",
      "source": [
        "from sklearn.ensemble import VotingClassifier\n",
        "#Ensemble model\n",
        "\n",
        "estimators=[('RF', clf), ('SVC', svmmodel)]\n",
        "ensemble = VotingClassifier(estimators, voting='hard')\n",
        "\n",
        "\n",
        "ensemble.fit(feature, Y_train)\n",
        "predicted_output = ensemble.predict(test_feature)\n",
        "\n",
        "from sklearn.metrics import classification_report\n",
        "report = classification_report(Y_val, predicted_output)\n",
        "print('\\n',report)"
      ],
      "metadata": {
        "colab": {
          "base_uri": "https://localhost:8080/"
        },
        "id": "UdHe3wh9W3GN",
        "outputId": "47560f30-d76a-427d-c01b-67aa21c9ed66"
      },
      "execution_count": 20,
      "outputs": [
        {
          "output_type": "stream",
          "name": "stdout",
          "text": [
            "[LibSVM]\n",
            "               precision    recall  f1-score   support\n",
            "\n",
            "           0       0.85      0.92      0.88       178\n",
            "           1       0.68      0.90      0.78       155\n",
            "           2       0.59      0.65      0.62       162\n",
            "           3       0.76      0.77      0.77       167\n",
            "           4       0.61      0.67      0.64       149\n",
            "           5       0.61      0.59      0.60       160\n",
            "           6       0.81      0.89      0.85       208\n",
            "           7       0.89      0.73      0.80       150\n",
            "           8       0.81      0.71      0.75       141\n",
            "           9       0.70      0.36      0.47       158\n",
            "\n",
            "    accuracy                           0.73      1628\n",
            "   macro avg       0.73      0.72      0.72      1628\n",
            "weighted avg       0.73      0.73      0.72      1628\n",
            "\n"
          ]
        }
      ]
    },
    {
      "cell_type": "markdown",
      "source": [
        "### Principal Component Analysis"
      ],
      "metadata": {
        "id": "8ApIgNI79iC0"
      }
    },
    {
      "cell_type": "code",
      "source": [
        "#Principal Component Analysis\n",
        "\n",
        "\n",
        "X=[]\n",
        "y=[]\n",
        "\n",
        "def prepareNameWithLabels():\n",
        "    for i in class_label:\n",
        "        sourceFiles=os.listdir('/content/drive/MyDrive/cptcha/'+i)\n",
        "        for val in sourceFiles:\n",
        "            img = cv2.imread('/content/drive/MyDrive/cptcha/'+i+'/'+val, cv2.IMREAD_COLOR)\n",
        "\n",
        "            blue,green,red = cv2.split(img) \n",
        "            from sklearn.decomposition import PCA\n",
        "            pca = PCA(10)\n",
        " \n",
        "            \n",
        "            red_transformed = pca.fit_transform(red)\n",
        "            red_inverted = pca.inverse_transform(red_transformed)\n",
        "            \n",
        "            green_transformed = pca.fit_transform(green)\n",
        "            green_inverted = pca.inverse_transform(green_transformed)\n",
        "            \n",
        "            blue_transformed = pca.fit_transform(blue)\n",
        "            blue_inverted = pca.inverse_transform(blue_transformed)\n",
        "            img_compressed = (np.dstack((red_inverted, red_inverted, red_inverted))).astype(np.uint8)\n",
        "            X.append(img_compressed)\n",
        "            \n",
        "            for j in range(len(class_label)):\n",
        "              if(i==class_label[j]):\n",
        "                  Y.append(j)\n",
        "                    \n",
        "prepareNameWithLabels()\n",
        "\n",
        "X = np.asarray(X)\n",
        "Y = np.asarray(Y)\n",
        "print(Y)\n",
        "print(X.shape, Y.shape)\n",
        "\n"
      ],
      "metadata": {
        "id": "6HHPavn9jak8"
      },
      "execution_count": null,
      "outputs": []
    },
    {
      "cell_type": "markdown",
      "source": [
        "### Testing with model"
      ],
      "metadata": {
        "id": "8ZCj1YJT9nW4"
      }
    },
    {
      "cell_type": "code",
      "source": [
        "from matplotlib import pyplot as plt\n",
        "n=np.random.randint(0, X_test.shape[0])\n",
        "img = cv2.imread('https://wallup.net/wp-content/uploads/2019/09/716914-cessna-airplane-aircraft-transport.jpg',cv2.IMREAD_COLOR)\n",
        "from PIL import Image\n",
        "# importing modules\n",
        "import urllib.request\n",
        "import requests\n",
        "\n",
        "im = Image.open(requests.get('https://wallup.net/wp-content/uploads/2019/09/716914-cessna-airplane-aircraft-transport.jpg', stream=True).raw)\n",
        "input_img = np.expand_dims(im.resize((100,100)), axis=0)\n",
        "input_img_feature = model.predict(input_img)\n",
        "input_img_features = input_img_feature.reshape(input_img_feature.shape[0],-1)\n",
        "prediction_SVM = svmmodel.predict(input_img_features)[0]\n",
        "print('Predicted Label:')\n",
        "print(class_label[prediction_SVM], prediction_SVM)\n"
      ],
      "metadata": {
        "id": "naUqfwa_8Xd-"
      },
      "execution_count": null,
      "outputs": []
    }
  ]
}